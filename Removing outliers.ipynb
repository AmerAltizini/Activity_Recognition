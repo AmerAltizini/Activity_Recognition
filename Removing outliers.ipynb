{
 "cells": [
  {
   "cell_type": "code",
   "execution_count": null,
   "metadata": {
    "collapsed": true,
    "pycharm": {
     "name": "#%%\n"
    }
   },
   "outputs": [],
   "source": [
    "## data distribution before removing outliers\n",
    "data_distribution_before = All_datasets_withoutNaN.hist(bins=100, figsize = (20,15))"
   ]
  },
  {
   "cell_type": "code",
   "execution_count": null,
   "outputs": [],
   "source": [
    "## removing outliers\n",
    "# Calculate the IQR to remove the outliers\n",
    "Q1 = All_datasets_withoutNaN.quantile(0.25)\n",
    "Q3 = All_datasets_withoutNaN.quantile(0.75)\n",
    "IQR = Q3 - Q1\n",
    "print(\"IQR is\\n\", IQR)\n",
    "print((All_datasets_withoutNaN < (Q1 - 1.5 * IQR)) |(All_datasets_withoutNaN > (Q3 + 1.5 * IQR)) )\n",
    "print(All_datasets_withoutNaN.shape)\n",
    "# Applying IQR\n",
    "df_out = All_datasets_withoutNaN[~((All_datasets_withoutNaN < (Q1 - 1.5 * IQR)) |(All_datasets_withoutNaN > (Q3 + 1.5 * IQR))).any(axis=1)]\n",
    "df_out"
   ],
   "metadata": {
    "collapsed": false,
    "pycharm": {
     "name": "#%%\n"
    }
   }
  },
  {
   "cell_type": "code",
   "execution_count": null,
   "outputs": [],
   "source": [
    "## data distribution after removing outliers\n",
    "data_distribution_after = df_out.hist(bins=100, figsize = (20,15))\n",
    "display(df_out['encoded_label'].value_counts())\n",
    "## the data after removing outliers decreased drastically"
   ],
   "metadata": {
    "collapsed": false,
    "pycharm": {
     "name": "#%%\n"
    }
   }
  }
 ],
 "metadata": {
  "kernelspec": {
   "display_name": "Python 3",
   "language": "python",
   "name": "python3"
  },
  "language_info": {
   "codemirror_mode": {
    "name": "ipython",
    "version": 2
   },
   "file_extension": ".py",
   "mimetype": "text/x-python",
   "name": "python",
   "nbconvert_exporter": "python",
   "pygments_lexer": "ipython2",
   "version": "2.7.6"
  }
 },
 "nbformat": 4,
 "nbformat_minor": 0
}