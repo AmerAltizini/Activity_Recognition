{
 "cells": [
  {
   "cell_type": "code",
   "execution_count": 1,
   "outputs": [],
   "source": [
    "# To do\n",
    "#varying window size, overlap, frequency; down-sampling. this can be done throught for loops or nested loop and by setting two lists:"
   ],
   "metadata": {
    "collapsed": false,
    "pycharm": {
     "name": "#%%\n"
    }
   }
  },
  {
   "cell_type": "code",
   "execution_count": null,
   "outputs": [],
   "source": [
    "# 10-fold cross-validation\n",
    "# visualization for one participant"
   ],
   "metadata": {
    "collapsed": false,
    "pycharm": {
     "name": "#%%\n"
    }
   }
  },
  {
   "cell_type": "code",
   "execution_count": null,
   "outputs": [],
   "source": [
    "# # convert encoded_label column from float to string to classify the labels and visualize them\n",
    "# df_out['encoded_label'] = df_out['encoded_label'].astype(str)\n",
    "# # filtering sensor data for specific activities\n",
    "# sitting = df_out.query('encoded_label == \"4.0\"')\n",
    "# standing = df_out.query('encoded_label in [\"5.0\"]')\n",
    "# walking = df_out.query('encoded_label == \"9.0\"')\n",
    "# downstairs = df_out.query('encoded_label == \"1.0\"')\n",
    "# upstairs = df_out.query('encoded_label == \"7.0\"')\n",
    "# typing = df_out.query('encoded_label == \"6.0\"')\n",
    "# reading = df_out.query('encoded_label == \"3.0\"')\n",
    "# hand_wash = df_out.query('encoded_label == \"2.0\"')\n",
    "# dishes = df_out.query('encoded_label == \"0.0\"')\n",
    "# vacuum = df_out.query('encoded_label == \"8.0\"')"
   ],
   "metadata": {
    "collapsed": false,
    "pycharm": {
     "name": "#%%\n"
    }
   }
  },
  {
   "cell_type": "code",
   "execution_count": null,
   "outputs": [],
   "source": [
    "# when the label at the end\n",
    "# X = features_df.iloc[:, :-1].values\n",
    "# y = features_df.iloc[:, -1].values\n",
    "# y=y.astype('int')"
   ],
   "metadata": {
    "collapsed": false,
    "pycharm": {
     "name": "#%%\n"
    }
   }
  },
  {
   "cell_type": "code",
   "execution_count": null,
   "outputs": [],
   "source": [
    "# Sliding window (rolling) with a fixed window size of 1 second for 60Hz\n",
    "import functions\n",
    "\n",
    "window_size =1*60\n",
    "\n",
    "# Features: minimum (min), maximum (max), sum (sum), standard deviation (std), mean (mean)\n",
    "# selecting datafarame without the labels\n",
    "xx=withoutTS.iloc[:,:-1]\n",
    "features_df = xx.rolling(window = window_size, center=True, min_periods=1).agg(['min', 'max', 'sum', 'mean', 'std'])\n",
    "# features_df.columns = ['-'.join(tup).rstrip('-') for tup in features_df.columns.values]\n",
    "# features_df=pd.concat([withoutTS.iloc[:,-1],features_df], axis=1)\n",
    "    # features.dropna(inplace=True)\n",
    "# features_df=features_df[59::30]\n",
    "features_df\n",
    "# now select every second element.\n",
    "# df[(df.index % 2) == 1]\n",
    "# take every 5th row\n",
    "# seq[start:end:step], syntax\n",
    "# features[4::5]\n",
    "# FeaturesDF=FeaturesDF[255::128]"
   ],
   "metadata": {
    "collapsed": false,
    "pycharm": {
     "name": "#%%\n"
    }
   }
  },
  {
   "cell_type": "code",
   "execution_count": 8,
   "outputs": [
    {
     "name": "stdout",
     "output_type": "stream",
     "text": [
      "initial t\n",
      "   col1    col2\n",
      "0     1   5.200\n",
      "1     2   1.100\n",
      "2     3   1.300\n",
      "3     4   1.600\n",
      "4     5   1.098\n",
      "5     6   1.040\n",
      "6     7   0.900\n",
      "7     8   0.930\n",
      "8     9   0.870\n",
      "9    10  10.020\n",
      "----------------------------------\n",
      "all segments\n",
      "   col1    col2\n",
      "4  15.0  10.298\n",
      "5  20.0   6.138\n",
      "6  25.0   5.938\n",
      "7  30.0   5.568\n",
      "8  35.0   4.838\n",
      "9  40.0  13.760\n",
      "----------------------------------\n",
      "filtered segments\n",
      "   col1    col2\n",
      "4  15.0  10.298\n",
      "6  25.0   5.938\n",
      "8  35.0   4.838\n"
     ]
    }
   ],
   "source": [
    "import pandas as pd\n",
    "\n",
    "test = {'col1': [1, 2, 3,4,5,6,7,8,9,10], 'col2': [5.2, 1.1, 1.3, 1.6, 1.098, 1.04, 0.9, 0.93, 0.87, 10.02]}\n",
    "t = pd.DataFrame(data=test)\n",
    "print(\"initial t\")\n",
    "print(t)\n",
    "print(\"----------------------------------\")\n",
    "\n",
    "\n",
    "def rollit(window_size, overlap):\n",
    "    segments = t.rolling(window_size, min_periods=window_size).agg('sum')\n",
    "    segments = segments.dropna()\n",
    "\n",
    "    print(\"all segments\")\n",
    "    print(segments)\n",
    "    print(\"----------------------------------\")\n",
    "\n",
    "    print(\"filtered segments\")\n",
    "    segments = segments[::(int)(window_size*overlap)]\n",
    "    print(segments)\n",
    "\n",
    "amer = rollit(5, 0.5)"
   ],
   "metadata": {
    "collapsed": false,
    "pycharm": {
     "name": "#%%\n"
    }
   }
  },
  {
   "cell_type": "code",
   "execution_count": 9,
   "outputs": [
    {
     "data": {
      "text/plain": "NoneType"
     },
     "execution_count": 9,
     "metadata": {},
     "output_type": "execute_result"
    }
   ],
   "source": [
    "type(amer)"
   ],
   "metadata": {
    "collapsed": false,
    "pycharm": {
     "name": "#%%\n"
    }
   }
  },
  {
   "cell_type": "code",
   "execution_count": 1,
   "outputs": [],
   "source": [
    "from sklearn.datasets import load_digits\n",
    "digits = load_digits()"
   ],
   "metadata": {
    "collapsed": false,
    "pycharm": {
     "name": "#%%\n"
    }
   }
  },
  {
   "cell_type": "code",
   "execution_count": 2,
   "outputs": [
    {
     "data": {
      "text/plain": "array([[ 0.,  0.,  5., ...,  0.,  0.,  0.],\n       [ 0.,  0.,  0., ..., 10.,  0.,  0.],\n       [ 0.,  0.,  0., ..., 16.,  9.,  0.],\n       ...,\n       [ 0.,  0.,  1., ...,  6.,  0.,  0.],\n       [ 0.,  0.,  2., ..., 12.,  0.,  0.],\n       [ 0.,  0., 10., ..., 12.,  1.,  0.]])"
     },
     "execution_count": 2,
     "metadata": {},
     "output_type": "execute_result"
    }
   ],
   "source": [
    "digits.data"
   ],
   "metadata": {
    "collapsed": false,
    "pycharm": {
     "name": "#%%\n"
    }
   }
  },
  {
   "cell_type": "code",
   "execution_count": 4,
   "outputs": [
    {
     "data": {
      "text/plain": "numpy.ndarray"
     },
     "execution_count": 4,
     "metadata": {},
     "output_type": "execute_result"
    }
   ],
   "source": [
    "type(digits.data)"
   ],
   "metadata": {
    "collapsed": false,
    "pycharm": {
     "name": "#%%\n"
    }
   }
  },
  {
   "cell_type": "code",
   "execution_count": 13,
   "outputs": [
    {
     "data": {
      "text/plain": "array([0, 1, 2, ..., 8, 9, 8])"
     },
     "execution_count": 13,
     "metadata": {},
     "output_type": "execute_result"
    }
   ],
   "source": [
    "digits.target"
   ],
   "metadata": {
    "collapsed": false,
    "pycharm": {
     "name": "#%%\n"
    }
   }
  },
  {
   "cell_type": "code",
   "execution_count": 6,
   "outputs": [
    {
     "data": {
      "text/plain": "0.4346132442960489"
     },
     "execution_count": 6,
     "metadata": {},
     "output_type": "execute_result"
    }
   ],
   "source": [
    "from sklearn.model_selection import cross_val_score\n",
    "from sklearn.svm import SVC\n",
    "import numpy as np\n",
    "scores2=cross_val_score(SVC(gamma='auto'), digits.data, digits.target,cv=3)\n",
    "np.average(scores2)"
   ],
   "metadata": {
    "collapsed": false,
    "pycharm": {
     "name": "#%%\n"
    }
   }
  },
  {
   "cell_type": "code",
   "execution_count": null,
   "outputs": [],
   "source": [
    "#crosstab matrix (pivot table)\n",
    "\n",
    "ctMatrix = pd.crosstab(y_test, y_pred, margins=True, margins_name='All')\n",
    "ctMatrix\n",
    "ctMatrix.columns = ['sitting', 'standing', 'walking', 'downstairs', 'upstairs', 'typing', 'reading', 'hand_wash', 'dishes','vacuum', 'All']\n",
    "ctMatrix.index = ['sitting', 'standing', 'walking', 'downstairs', 'upstairs', 'typing', 'reading', 'hand_wash', 'dishes','vacuum', 'All']\n",
    "ctMatrix"
   ],
   "metadata": {
    "collapsed": false,
    "pycharm": {
     "name": "#%%\n"
    }
   }
  },
  {
   "cell_type": "code",
   "execution_count": null,
   "outputs": [],
   "source": [
    "from sklearn.svm import SVC\n",
    "svm = SVC(gamma='auto')\n",
    "svm.fit(x_train, y_train.ravel())\n",
    "# svm.fit(x_train, y_train)\n",
    "svm.score(x_test, y_test.ravel())"
   ],
   "metadata": {
    "collapsed": false,
    "pycharm": {
     "name": "#%%\n"
    }
   }
  },
  {
   "cell_type": "code",
   "execution_count": null,
   "outputs": [],
   "source": [
    "unique, counts = np.unique(y_train, return_counts=True)\n",
    "print(np.asarray((unique, counts)).T)"
   ],
   "metadata": {
    "collapsed": false,
    "pycharm": {
     "name": "#%%\n"
    }
   }
  },
  {
   "cell_type": "code",
   "execution_count": null,
   "outputs": [],
   "source": [
    "def get_score(model, X_train, X_test, y_train, y_test):\n",
    "    model.fit(X_train, y_train)\n",
    "    return model.score(X_test, y_test)"
   ],
   "metadata": {
    "collapsed": false,
    "pycharm": {
     "name": "#%%\n"
    }
   }
  },
  {
   "cell_type": "code",
   "execution_count": null,
   "outputs": [],
   "source": [
    "scores_rf = []\n",
    "scores_rf.append(get_score(RandomForestClassifier(n_estimators=40), x_train, x_test, y_train.ravel(), y_test.ravel()))"
   ],
   "metadata": {
    "collapsed": false,
    "pycharm": {
     "name": "#%%\n"
    }
   }
  },
  {
   "cell_type": "code",
   "execution_count": null,
   "outputs": [],
   "source": [
    "lr = LogisticRegression(solver='liblinear',multi_class='ovr')\n",
    "lr.fit(x_train, y_train.ravel())\n",
    "lr.score(x_test, y_test.ravel())"
   ],
   "metadata": {
    "collapsed": false,
    "pycharm": {
     "name": "#%%\n"
    }
   }
  },
  {
   "cell_type": "code",
   "execution_count": null,
   "outputs": [],
   "source": [
    "# y_pred = classifier.predict(x_test)\n",
    "y_pred = svm.predict(x_test)\n",
    "print(np.concatenate((y_pred.reshape(len(y_pred),1), y_test.reshape(len(y_test),1)),1))"
   ],
   "metadata": {
    "collapsed": false,
    "pycharm": {
     "name": "#%%\n"
    }
   }
  },
  {
   "cell_type": "code",
   "execution_count": null,
   "outputs": [],
   "source": [
    "target_names = ['sitting', 'standing', 'walking', 'downstairs', 'upstairs', 'typing', 'reading', 'hand_wash', 'dishes','vacuum']\n",
    "print(classification_report(y_test, y_pred, target_names=target_names, digits=4))\n",
    "accuracy_score(y_test, y_pred)"
   ],
   "metadata": {
    "collapsed": false,
    "pycharm": {
     "name": "#%%\n"
    }
   }
  },
  {
   "cell_type": "code",
   "execution_count": null,
   "outputs": [],
   "source": [
    "# --- confusion matrix\n",
    "from matplotlib.pyplot import figure\n",
    "\n",
    "figure(figsize=(16, 12), dpi=300)\n",
    "y_pred = classifier.predict(x_test)\n",
    "cm = confusion_matrix(y_test, y_pred)\n",
    "# accuracy_score(y_test, y_pred)\n",
    "# print(\"Confusion Matrix:\")\n",
    "# print(cm)\n",
    "# --- ---- ---- heatmap\n",
    "# correct the orders of label categories (double check)\n",
    "sns.heatmap(cm,cmap=\"Blues\",annot=True,\n",
    "            cbar_kws={\"orientation\":\"vertical\",\"label\":\"color bar\"},\n",
    "            xticklabels=['sitting', 'standing', 'walking', 'downstairs', 'upstairs', 'typing', 'reading', 'hand_wash', 'dishes','vacuum'],yticklabels=['sitting', 'standing', 'walking', 'downstairs', 'upstairs', 'typing', 'reading', 'hand_wash', 'dishes','vacuum'], fmt='g')\n",
    "plt.xlabel(\"Predicted\")\n",
    "plt.ylabel(\"Actual\")\n",
    "plt.title(\"Confusion Matrix\")\n",
    "plt.show()"
   ],
   "metadata": {
    "collapsed": false,
    "pycharm": {
     "name": "#%%\n"
    }
   }
  },
  {
   "cell_type": "code",
   "execution_count": 1,
   "outputs": [],
   "source": [
    "dish = input(\"enter a dish name\")"
   ],
   "metadata": {
    "collapsed": false,
    "pycharm": {
     "name": "#%%\n"
    }
   }
  },
  {
   "cell_type": "code",
   "execution_count": 2,
   "outputs": [],
   "source": [
    "import math"
   ],
   "metadata": {
    "collapsed": false,
    "pycharm": {
     "name": "#%%\n"
    }
   }
  },
  {
   "cell_type": "code",
   "execution_count": 3,
   "outputs": [
    {
     "data": {
      "text/plain": "['__doc__',\n '__loader__',\n '__name__',\n '__package__',\n '__spec__',\n 'acos',\n 'acosh',\n 'asin',\n 'asinh',\n 'atan',\n 'atan2',\n 'atanh',\n 'ceil',\n 'comb',\n 'copysign',\n 'cos',\n 'cosh',\n 'degrees',\n 'dist',\n 'e',\n 'erf',\n 'erfc',\n 'exp',\n 'expm1',\n 'fabs',\n 'factorial',\n 'floor',\n 'fmod',\n 'frexp',\n 'fsum',\n 'gamma',\n 'gcd',\n 'hypot',\n 'inf',\n 'isclose',\n 'isfinite',\n 'isinf',\n 'isnan',\n 'isqrt',\n 'ldexp',\n 'lgamma',\n 'log',\n 'log10',\n 'log1p',\n 'log2',\n 'modf',\n 'nan',\n 'perm',\n 'pi',\n 'pow',\n 'prod',\n 'radians',\n 'remainder',\n 'sin',\n 'sinh',\n 'sqrt',\n 'tan',\n 'tanh',\n 'tau',\n 'trunc']"
     },
     "execution_count": 3,
     "metadata": {},
     "output_type": "execute_result"
    }
   ],
   "source": [
    "dir(math)"
   ],
   "metadata": {
    "collapsed": false,
    "pycharm": {
     "name": "#%%\n"
    }
   }
  },
  {
   "cell_type": "code",
   "execution_count": 4,
   "outputs": [],
   "source": [
    "import json"
   ],
   "metadata": {
    "collapsed": false,
    "pycharm": {
     "name": "#%%\n"
    }
   }
  },
  {
   "cell_type": "code",
   "execution_count": 5,
   "outputs": [
    {
     "ename": "IndexError",
     "evalue": "list index out of range",
     "output_type": "error",
     "traceback": [
      "\u001B[1;31m---------------------------------------------------------------------------\u001B[0m",
      "\u001B[1;31mIndexError\u001B[0m                                Traceback (most recent call last)",
      "\u001B[1;32m<ipython-input-5-db690119124e>\u001B[0m in \u001B[0;36m<module>\u001B[1;34m\u001B[0m\n\u001B[0;32m     25\u001B[0m \u001B[1;33m\u001B[0m\u001B[0m\n\u001B[0;32m     26\u001B[0m \u001B[0mreport\u001B[0m \u001B[1;33m=\u001B[0m \u001B[0mclassification_report\u001B[0m\u001B[1;33m(\u001B[0m\u001B[0my_true\u001B[0m\u001B[1;33m,\u001B[0m \u001B[0my_pred\u001B[0m\u001B[1;33m,\u001B[0m \u001B[0mtarget_names\u001B[0m\u001B[1;33m=\u001B[0m\u001B[0mtarget_names\u001B[0m\u001B[1;33m)\u001B[0m\u001B[1;33m\u001B[0m\u001B[1;33m\u001B[0m\u001B[0m\n\u001B[1;32m---> 27\u001B[1;33m \u001B[0mclassifaction_report_csv\u001B[0m\u001B[1;33m(\u001B[0m\u001B[0mreport\u001B[0m\u001B[1;33m)\u001B[0m\u001B[1;33m\u001B[0m\u001B[1;33m\u001B[0m\u001B[0m\n\u001B[0m",
      "\u001B[1;32m<ipython-input-5-db690119124e>\u001B[0m in \u001B[0;36mclassifaction_report_csv\u001B[1;34m(report)\u001B[0m\n\u001B[0;32m     14\u001B[0m         \u001B[0mrow_data\u001B[0m \u001B[1;33m=\u001B[0m \u001B[0mline\u001B[0m\u001B[1;33m.\u001B[0m\u001B[0msplit\u001B[0m\u001B[1;33m(\u001B[0m\u001B[1;34m'      '\u001B[0m\u001B[1;33m)\u001B[0m\u001B[1;33m\u001B[0m\u001B[1;33m\u001B[0m\u001B[0m\n\u001B[0;32m     15\u001B[0m         \u001B[0mrow\u001B[0m\u001B[1;33m[\u001B[0m\u001B[1;34m'class'\u001B[0m\u001B[1;33m]\u001B[0m \u001B[1;33m=\u001B[0m \u001B[0mrow_data\u001B[0m\u001B[1;33m[\u001B[0m\u001B[1;36m0\u001B[0m\u001B[1;33m]\u001B[0m\u001B[1;33m\u001B[0m\u001B[1;33m\u001B[0m\u001B[0m\n\u001B[1;32m---> 16\u001B[1;33m         \u001B[0mrow\u001B[0m\u001B[1;33m[\u001B[0m\u001B[1;34m'precision'\u001B[0m\u001B[1;33m]\u001B[0m \u001B[1;33m=\u001B[0m \u001B[0mfloat\u001B[0m\u001B[1;33m(\u001B[0m\u001B[0mrow_data\u001B[0m\u001B[1;33m[\u001B[0m\u001B[1;36m1\u001B[0m\u001B[1;33m]\u001B[0m\u001B[1;33m)\u001B[0m\u001B[1;33m\u001B[0m\u001B[1;33m\u001B[0m\u001B[0m\n\u001B[0m\u001B[0;32m     17\u001B[0m         \u001B[0mrow\u001B[0m\u001B[1;33m[\u001B[0m\u001B[1;34m'recall'\u001B[0m\u001B[1;33m]\u001B[0m \u001B[1;33m=\u001B[0m \u001B[0mfloat\u001B[0m\u001B[1;33m(\u001B[0m\u001B[0mrow_data\u001B[0m\u001B[1;33m[\u001B[0m\u001B[1;36m2\u001B[0m\u001B[1;33m]\u001B[0m\u001B[1;33m)\u001B[0m\u001B[1;33m\u001B[0m\u001B[1;33m\u001B[0m\u001B[0m\n\u001B[0;32m     18\u001B[0m         \u001B[0mrow\u001B[0m\u001B[1;33m[\u001B[0m\u001B[1;34m'f1_score'\u001B[0m\u001B[1;33m]\u001B[0m \u001B[1;33m=\u001B[0m \u001B[0mfloat\u001B[0m\u001B[1;33m(\u001B[0m\u001B[0mrow_data\u001B[0m\u001B[1;33m[\u001B[0m\u001B[1;36m3\u001B[0m\u001B[1;33m]\u001B[0m\u001B[1;33m)\u001B[0m\u001B[1;33m\u001B[0m\u001B[1;33m\u001B[0m\u001B[0m\n",
      "\u001B[1;31mIndexError\u001B[0m: list index out of range"
     ]
    }
   ],
   "source": [
    "from sklearn.metrics import classification_report\n",
    "import csv\n",
    "import pandas as pd\n",
    "\n",
    "y_true = [0, 1, 2, 2, 2]\n",
    "y_pred = [0, 0, 2, 2, 1]\n",
    "target_names = ['class 0', 'class 1', 'class 2']\n",
    "\n",
    "def classifaction_report_csv(report):\n",
    "    report_data = []\n",
    "    lines = report.split('\\n')\n",
    "    for line in lines[2:-3]:\n",
    "        row = {}\n",
    "        row_data = line.split('      ')\n",
    "        row['class'] = row_data[0]\n",
    "        row['precision'] = float(row_data[1])\n",
    "        row['recall'] = float(row_data[2])\n",
    "        row['f1_score'] = float(row_data[3])\n",
    "        row['support'] = float(row_data[4])\n",
    "        report_data.append(row)\n",
    "    dataframe = pd.DataFrame.from_dict(report_data)\n",
    "    dataframe.to_csv('report.csv', index = False)\n",
    "\n",
    "#call the classification_report first and then our new function\n",
    "\n",
    "report = classification_report(y_true, y_pred, target_names=target_names)\n",
    "classifaction_report_csv(report)"
   ],
   "metadata": {
    "collapsed": false,
    "pycharm": {
     "name": "#%%\n"
    }
   }
  },
  {
   "cell_type": "code",
   "execution_count": null,
   "outputs": [],
   "source": [],
   "metadata": {
    "collapsed": false,
    "pycharm": {
     "name": "#%%\n"
    }
   }
  }
 ],
 "metadata": {
  "kernelspec": {
   "display_name": "Python 3",
   "language": "python",
   "name": "python3"
  },
  "language_info": {
   "codemirror_mode": {
    "name": "ipython",
    "version": 2
   },
   "file_extension": ".py",
   "mimetype": "text/x-python",
   "name": "python",
   "nbconvert_exporter": "python",
   "pygments_lexer": "ipython2",
   "version": "2.7.6"
  }
 },
 "nbformat": 4,
 "nbformat_minor": 0
}